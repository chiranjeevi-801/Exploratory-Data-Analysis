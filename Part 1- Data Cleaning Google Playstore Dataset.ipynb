{
 "cells": [
  {
   "cell_type": "markdown",
   "id": "1b5b06c0",
   "metadata": {},
   "source": [
    "## EDA And Feature Engineering Of Google Play Store Dataset\n",
    "\n",
    "1) Problem statement.\n",
    "Today, 1.85 million different apps are available for users to download. Android users have even more from which to choose, with 2.56 million available through the Google Play Store. These apps have come to play a huge role in the way we live our lives today. Our Objective is to find the Most Popular Category, find the App with largest number of installs , the App with largest size etc.\n",
    "2) Data Collection.\n",
    "\n",
    "The data consists of 20 column and 10841 rows."
   ]
  },
  {
   "cell_type": "markdown",
   "id": "1a4c9b33",
   "metadata": {},
   "source": [
    "### Steps We Are Going to Follow\n",
    "1. Data Clearning\n",
    "2. Exploratory Data Analysis\n",
    "3. Featur eEngineering"
   ]
  },
  {
   "cell_type": "code",
   "execution_count": 6,
   "id": "5092522b",
   "metadata": {},
   "outputs": [],
   "source": [
    "import pandas as pd\n",
    "import numpy as np\n",
    "import matplotlib.pyplot as plt \n",
    "import seaborn as sns\n",
    "import warnings\n",
    "warnings.filterwarnings(\"ignore\")\n",
    "\n",
    "%matplotlib inline\n"
   ]
  },
  {
   "cell_type": "code",
   "execution_count": null,
   "id": "bea659b2",
   "metadata": {},
   "outputs": [],
   "source": []
  },
  {
   "cell_type": "code",
   "execution_count": null,
   "id": "55d7fbec",
   "metadata": {},
   "outputs": [],
   "source": []
  }
 ],
 "metadata": {
  "kernelspec": {
   "display_name": "Python 3",
   "language": "python",
   "name": "python3"
  },
  "language_info": {
   "codemirror_mode": {
    "name": "ipython",
    "version": 3
   },
   "file_extension": ".py",
   "mimetype": "text/x-python",
   "name": "python",
   "nbconvert_exporter": "python",
   "pygments_lexer": "ipython3",
   "version": "3.12.0"
  }
 },
 "nbformat": 4,
 "nbformat_minor": 5
}
